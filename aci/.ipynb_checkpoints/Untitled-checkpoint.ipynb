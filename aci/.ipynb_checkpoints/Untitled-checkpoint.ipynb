{
 "cells": [
  {
   "cell_type": "code",
   "execution_count": 6,
   "id": "8dc2d572-ac9c-4fa2-8fe8-286e74e1b817",
   "metadata": {},
   "outputs": [],
   "source": [
    "import xarray as xr\n",
    "import Era5var\n",
    "import precipitationcomponent as pc\n"
   ]
  },
  {
   "cell_type": "code",
   "execution_count": 5,
   "id": "ead913ec-4868-4003-9746-09949b98be51",
   "metadata": {},
   "outputs": [
    {
     "ename": "TypeError",
     "evalue": "'method' object is not subscriptable",
     "output_type": "error",
     "traceback": [
      "\u001b[0;31m---------------------------------------------------------------------------\u001b[0m",
      "\u001b[0;31mTypeError\u001b[0m                                 Traceback (most recent call last)",
      "Cell \u001b[0;32mIn[5], line 6\u001b[0m\n\u001b[1;32m      1\u001b[0m \u001b[38;5;66;03m# On récupère les données de pluie\u001b[39;00m\n\u001b[1;32m      3\u001b[0m precip_component \u001b[38;5;241m=\u001b[39m pc\u001b[38;5;241m.\u001b[39mPrecipitationComponent(\u001b[38;5;124m\"\u001b[39m\u001b[38;5;124mdata/output.nc\u001b[39m\u001b[38;5;124m\"\u001b[39m, \u001b[38;5;124m\"\u001b[39m\u001b[38;5;124mdata/countries_gridded_0.1deg_v0.1_FRo.nc\u001b[39m\u001b[38;5;124m\"\u001b[39m)\n\u001b[0;32m----> 6\u001b[0m res \u001b[38;5;241m=\u001b[39m \u001b[43mprecip_component\u001b[49m\u001b[38;5;241;43m.\u001b[39;49m\u001b[43mcalculate_rolling_sum\u001b[49m\u001b[43m(\u001b[49m\u001b[38;5;124;43m\"\u001b[39;49m\u001b[38;5;124;43mtp\u001b[39;49m\u001b[38;5;124;43m\"\u001b[39;49m\u001b[43m,\u001b[49m\u001b[43m \u001b[49m\u001b[38;5;241;43m5\u001b[39;49m\u001b[43m)\u001b[49m\n\u001b[1;32m      7\u001b[0m \u001b[38;5;28mprint\u001b[39m(res)\n",
      "File \u001b[0;32m~/StageAI/mypackage/mypackage/precipitationcomponent.py:56\u001b[0m, in \u001b[0;36mPrecipitationComponent.calculate_rolling_sum\u001b[0;34m(self, var_name, window_size)\u001b[0m\n\u001b[1;32m     45\u001b[0m \u001b[38;5;28;01mdef\u001b[39;00m \u001b[38;5;21mcalculate_rolling_sum\u001b[39m(\u001b[38;5;28mself\u001b[39m, var_name, window_size):\n\u001b[1;32m     46\u001b[0m \u001b[38;5;250m    \u001b[39m\u001b[38;5;124;03m\"\"\"\u001b[39;00m\n\u001b[1;32m     47\u001b[0m \u001b[38;5;124;03m    Calculates the rolling sum of precipitation over a specified window size.\u001b[39;00m\n\u001b[1;32m     48\u001b[0m \n\u001b[0;32m   (...)\u001b[0m\n\u001b[1;32m     54\u001b[0m \u001b[38;5;124;03m        xr.DataArray: The rolling sum of precipitation.\u001b[39;00m\n\u001b[1;32m     55\u001b[0m \u001b[38;5;124;03m    \"\"\"\u001b[39;00m\n\u001b[0;32m---> 56\u001b[0m     preci \u001b[38;5;241m=\u001b[39m \u001b[38;5;28;43mself\u001b[39;49m\u001b[38;5;241;43m.\u001b[39;49m\u001b[43mapply_mask\u001b[49m\u001b[43m[\u001b[49m\u001b[43mvar_name\u001b[49m\u001b[43m]\u001b[49m\n\u001b[1;32m     57\u001b[0m     rolling_sum \u001b[38;5;241m=\u001b[39m preci\u001b[38;5;241m.\u001b[39mrolling(time\u001b[38;5;241m=\u001b[39mwindow_size)\u001b[38;5;241m.\u001b[39msum()\n\u001b[1;32m     58\u001b[0m     \u001b[38;5;28;01mreturn\u001b[39;00m rolling_sum\n",
      "\u001b[0;31mTypeError\u001b[0m: 'method' object is not subscriptable"
     ]
    }
   ],
   "source": [
    "\n",
    "# On récupère les données de pluie\n",
    "\n",
    "precip_component = pc.PrecipitationComponent(\"data/output.nc\", \"data/countries_gridded_0.1deg_v0.1_FRo.nc\")\n",
    "\n",
    "\n",
    "res = precip_component.calculate_rolling_sum(\"tp\", 5)\n",
    "print(res)\n"
   ]
  },
  {
   "cell_type": "code",
   "execution_count": null,
   "id": "655efb3d-7cb2-4f5d-8198-2bfc574125b6",
   "metadata": {},
   "outputs": [],
   "source": []
  }
 ],
 "metadata": {
  "kernelspec": {
   "display_name": "Python 3 (ipykernel)",
   "language": "python",
   "name": "python3"
  },
  "language_info": {
   "codemirror_mode": {
    "name": "ipython",
    "version": 3
   },
   "file_extension": ".py",
   "mimetype": "text/x-python",
   "name": "python",
   "nbconvert_exporter": "python",
   "pygments_lexer": "ipython3",
   "version": "3.9.19"
  }
 },
 "nbformat": 4,
 "nbformat_minor": 5
}
