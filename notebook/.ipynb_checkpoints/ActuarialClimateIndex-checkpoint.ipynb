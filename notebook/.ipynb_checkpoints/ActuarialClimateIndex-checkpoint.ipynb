{
 "cells": [
  {
   "cell_type": "code",
   "execution_count": 1,
   "id": "12f68fca-06b9-4075-a6ed-b3f21b7fb2fd",
   "metadata": {},
   "outputs": [],
   "source": [
    "import ACI as ac"
   ]
  },
  {
   "cell_type": "code",
   "execution_count": 2,
   "id": "4000709c-5090-4c12-9685-9958a54b8d29",
   "metadata": {},
   "outputs": [],
   "source": [
    "\n",
    "\n",
    "\n",
    "#Calcul de l'indice\n",
    "\n",
    "Indice = ac.ACI(\"data0/ResPartOfParis_2m_temperature_1960-1970.nc\",\n",
    "                \"data0/ResPartOfParis_total_precipitation_1960-1970.nc\",\n",
    "                \"data0/ResPartOfParis_10m_u_component_of_wind_1960-1970.nc\",\n",
    "                \"data0/ResPartOfParis_10m_v_component_of_wind_1960-1970.nc\",\n",
    "                \"sealevel_data\",\n",
    "                \"data/countries_gridded_0.1deg_v0.1_FRo.nc\",\n",
    "                ('1978-01-01', '1988-01-01'),\n",
    "                ('1960-01-01', '1964-12-31')\n",
    "                )"
   ]
  },
  {
   "cell_type": "code",
   "execution_count": 3,
   "id": "70fa4a99-40a4-44a3-8669-5cfb3f799163",
   "metadata": {},
   "outputs": [
    {
     "name": "stderr",
     "output_type": "stream",
     "text": [
      "/home/dabakh/miniconda3/envs/myenv/lib/python3.9/site-packages/xarray/core/groupby.py:345: FutureWarning: is_monotonic is deprecated and will be removed in a future version. Use is_monotonic_increasing instead.\n",
      "  if not index.is_monotonic:\n",
      "/home/dabakh/miniconda3/envs/myenv/lib/python3.9/site-packages/xarray/core/groupby.py:345: FutureWarning: is_monotonic is deprecated and will be removed in a future version. Use is_monotonic_increasing instead.\n",
      "  if not index.is_monotonic:\n",
      "/home/dabakh/miniconda3/envs/myenv/lib/python3.9/site-packages/xarray/core/groupby.py:345: FutureWarning: is_monotonic is deprecated and will be removed in a future version. Use is_monotonic_increasing instead.\n",
      "  if not index.is_monotonic:\n",
      "/home/dabakh/miniconda3/envs/myenv/lib/python3.9/site-packages/xarray/core/groupby.py:345: FutureWarning: is_monotonic is deprecated and will be removed in a future version. Use is_monotonic_increasing instead.\n",
      "  if not index.is_monotonic:\n",
      "/home/dabakh/miniconda3/envs/myenv/lib/python3.9/site-packages/xarray/core/groupby.py:345: FutureWarning: is_monotonic is deprecated and will be removed in a future version. Use is_monotonic_increasing instead.\n",
      "  if not index.is_monotonic:\n",
      "/home/dabakh/miniconda3/envs/myenv/lib/python3.9/site-packages/xarray/core/groupby.py:345: FutureWarning: is_monotonic is deprecated and will be removed in a future version. Use is_monotonic_increasing instead.\n",
      "  if not index.is_monotonic:\n",
      "/home/dabakh/miniconda3/envs/myenv/lib/python3.9/site-packages/xarray/core/groupby.py:345: FutureWarning: is_monotonic is deprecated and will be removed in a future version. Use is_monotonic_increasing instead.\n",
      "  if not index.is_monotonic:\n",
      "/home/dabakh/miniconda3/envs/myenv/lib/python3.9/site-packages/xarray/core/groupby.py:345: FutureWarning: is_monotonic is deprecated and will be removed in a future version. Use is_monotonic_increasing instead.\n",
      "  if not index.is_monotonic:\n",
      "/home/dabakh/miniconda3/envs/myenv/lib/python3.9/site-packages/xarray/core/groupby.py:345: FutureWarning: is_monotonic is deprecated and will be removed in a future version. Use is_monotonic_increasing instead.\n",
      "  if not index.is_monotonic:\n",
      "/home/dabakh/miniconda3/envs/myenv/lib/python3.9/site-packages/xarray/core/groupby.py:345: FutureWarning: is_monotonic is deprecated and will be removed in a future version. Use is_monotonic_increasing instead.\n",
      "  if not index.is_monotonic:\n",
      "/home/dabakh/miniconda3/envs/myenv/lib/python3.9/site-packages/xarray/core/groupby.py:345: FutureWarning: is_monotonic is deprecated and will be removed in a future version. Use is_monotonic_increasing instead.\n",
      "  if not index.is_monotonic:\n",
      "/home/dabakh/miniconda3/envs/myenv/lib/python3.9/site-packages/xarray/core/groupby.py:345: FutureWarning: is_monotonic is deprecated and will be removed in a future version. Use is_monotonic_increasing instead.\n",
      "  if not index.is_monotonic:\n",
      "/home/dabakh/miniconda3/envs/myenv/lib/python3.9/site-packages/xarray/core/groupby.py:345: FutureWarning: is_monotonic is deprecated and will be removed in a future version. Use is_monotonic_increasing instead.\n",
      "  if not index.is_monotonic:\n",
      "/home/dabakh/miniconda3/envs/myenv/lib/python3.9/site-packages/xarray/core/groupby.py:345: FutureWarning: is_monotonic is deprecated and will be removed in a future version. Use is_monotonic_increasing instead.\n",
      "  if not index.is_monotonic:\n",
      "/home/dabakh/miniconda3/envs/myenv/lib/python3.9/site-packages/xarray/core/groupby.py:345: FutureWarning: is_monotonic is deprecated and will be removed in a future version. Use is_monotonic_increasing instead.\n",
      "  if not index.is_monotonic:\n",
      "/home/dabakh/miniconda3/envs/myenv/lib/python3.9/site-packages/xarray/core/groupby.py:345: FutureWarning: is_monotonic is deprecated and will be removed in a future version. Use is_monotonic_increasing instead.\n",
      "  if not index.is_monotonic:\n",
      "/home/dabakh/miniconda3/envs/myenv/lib/python3.9/site-packages/xarray/core/groupby.py:345: FutureWarning: is_monotonic is deprecated and will be removed in a future version. Use is_monotonic_increasing instead.\n",
      "  if not index.is_monotonic:\n",
      "/home/dabakh/miniconda3/envs/myenv/lib/python3.9/site-packages/xarray/core/groupby.py:345: FutureWarning: is_monotonic is deprecated and will be removed in a future version. Use is_monotonic_increasing instead.\n",
      "  if not index.is_monotonic:\n"
     ]
    },
    {
     "name": "stdout",
     "output_type": "stream",
     "text": [
      "Loaded data from 14 files.\n",
      "Data range: 1807.0417 - 2022.4583\n"
     ]
    },
    {
     "name": "stderr",
     "output_type": "stream",
     "text": [
      "/home/dabakh/miniconda3/envs/myenv/lib/python3.9/site-packages/xarray/core/groupby.py:345: FutureWarning: is_monotonic is deprecated and will be removed in a future version. Use is_monotonic_increasing instead.\n",
      "  if not index.is_monotonic:\n",
      "/home/dabakh/miniconda3/envs/myenv/lib/python3.9/site-packages/xarray/core/groupby.py:345: FutureWarning: is_monotonic is deprecated and will be removed in a future version. Use is_monotonic_increasing instead.\n",
      "  if not index.is_monotonic:\n"
     ]
    }
   ],
   "source": [
    "val = Indice.ACI()"
   ]
  },
  {
   "cell_type": "code",
   "execution_count": 6,
   "id": "bedd0ac0-10b4-4173-95cd-4d096c8ced32",
   "metadata": {},
   "outputs": [
    {
     "data": {
      "text/plain": [
       "1978-01-01 00:00:00                                             0.368024\n",
       "1978-02-01 00:00:00                                             1.003711\n",
       "1978-03-01 00:00:00                                            -0.064645\n",
       "1978-04-01 00:00:00                                             0.672463\n",
       "1978-05-01 00:00:00                                             0.162401\n",
       "                                             ...                        \n",
       "1987-09-01 00:00:00                                             2.404111\n",
       "1987-10-01 00:00:00                                             1.428949\n",
       "1987-11-01 00:00:00                                              1.23744\n",
       "1987-12-01 00:00:00                                             0.139339\n",
       "time                   DatetimeIndex(['1978-01-31', '1978-02-28', '19...\n",
       "Length: 121, dtype: object"
      ]
     },
     "execution_count": 6,
     "metadata": {},
     "output_type": "execute_result"
    }
   ],
   "source": [
    "val[4]"
   ]
  },
  {
   "cell_type": "code",
   "execution_count": 5,
   "id": "3a06db0b-f24e-4ae2-8b48-02ff08701c4b",
   "metadata": {},
   "outputs": [
    {
     "ename": "AttributeError",
     "evalue": "'tuple' object has no attribute 'head'",
     "output_type": "error",
     "traceback": [
      "\u001b[0;31m---------------------------------------------------------------------------\u001b[0m",
      "\u001b[0;31mAttributeError\u001b[0m                            Traceback (most recent call last)",
      "Cell \u001b[0;32mIn[5], line 1\u001b[0m\n\u001b[0;32m----> 1\u001b[0m \u001b[43mval\u001b[49m\u001b[38;5;241;43m.\u001b[39;49m\u001b[43mhead\u001b[49m()\n",
      "\u001b[0;31mAttributeError\u001b[0m: 'tuple' object has no attribute 'head'"
     ]
    }
   ],
   "source": [
    "val.head()"
   ]
  },
  {
   "cell_type": "code",
   "execution_count": null,
   "id": "fd2b438e-833c-4f87-9aca-3ad4ee692eed",
   "metadata": {},
   "outputs": [],
   "source": []
  }
 ],
 "metadata": {
  "kernelspec": {
   "display_name": "Python 3 (ipykernel)",
   "language": "python",
   "name": "python3"
  },
  "language_info": {
   "codemirror_mode": {
    "name": "ipython",
    "version": 3
   },
   "file_extension": ".py",
   "mimetype": "text/x-python",
   "name": "python",
   "nbconvert_exporter": "python",
   "pygments_lexer": "ipython3",
   "version": "3.9.19"
  }
 },
 "nbformat": 4,
 "nbformat_minor": 5
}
